{
 "cells": [
  {
   "cell_type": "markdown",
   "id": "a5610020-9d97-4b8a-a377-1ce2d100a6d2",
   "metadata": {},
   "source": [
    "### Nadia Syachrani"
   ]
  },
  {
   "cell_type": "code",
   "execution_count": 1,
   "id": "cd645396-aeae-4d4a-9682-1c81111ffb4d",
   "metadata": {},
   "outputs": [
    {
     "name": "stdout",
     "output_type": "stream",
     "text": [
      "halo\n"
     ]
    }
   ],
   "source": [
    "print('halo')"
   ]
  },
  {
   "cell_type": "markdown",
   "id": "745e3ade-7a64-43a3-b62d-65ef4e9077f7",
   "metadata": {},
   "source": [
    "# INTEGER"
   ]
  },
  {
   "cell_type": "code",
   "execution_count": 2,
   "id": "e053f810-beca-4031-b437-454119613d24",
   "metadata": {},
   "outputs": [
    {
     "name": "stdout",
     "output_type": "stream",
     "text": [
      "2\n"
     ]
    }
   ],
   "source": [
    "print(2)"
   ]
  },
  {
   "cell_type": "code",
   "execution_count": 3,
   "id": "ce5e1bb1-4ec6-40e3-9650-bcce3b1ebf4c",
   "metadata": {},
   "outputs": [
    {
     "name": "stdout",
     "output_type": "stream",
     "text": [
      "2 3\n"
     ]
    }
   ],
   "source": [
    "print(2,3)"
   ]
  },
  {
   "cell_type": "code",
   "execution_count": 5,
   "id": "59415cf5-92ae-4a84-8b0e-44be942f6b96",
   "metadata": {},
   "outputs": [
    {
     "name": "stdout",
     "output_type": "stream",
     "text": [
      "<class 'float'>\n"
     ]
    }
   ],
   "source": [
    "print(type(2.3))"
   ]
  },
  {
   "cell_type": "code",
   "execution_count": 6,
   "id": "8424ecb6-43cd-4151-a4bf-2de709a0917b",
   "metadata": {},
   "outputs": [
    {
     "name": "stdout",
     "output_type": "stream",
     "text": [
      "0.00042\n"
     ]
    }
   ],
   "source": [
    "print(4.2e-4)"
   ]
  },
  {
   "cell_type": "markdown",
   "id": "2bb397f1-2a8d-445e-bdee-b24413704c4d",
   "metadata": {},
   "source": [
    "# VARIABLE"
   ]
  },
  {
   "cell_type": "code",
   "execution_count": 7,
   "id": "89728178-bb30-47bd-9dd1-f6d608ec17fd",
   "metadata": {},
   "outputs": [
    {
     "name": "stdout",
     "output_type": "stream",
     "text": [
      "300\n"
     ]
    }
   ],
   "source": [
    "angka=300\n",
    "print(angka)"
   ]
  },
  {
   "cell_type": "code",
   "execution_count": 8,
   "id": "703489f7-8d24-4a00-a9db-2cb89bf85cd0",
   "metadata": {},
   "outputs": [
    {
     "name": "stdout",
     "output_type": "stream",
     "text": [
      "haha\n"
     ]
    }
   ],
   "source": [
    "teks='haha'\n",
    "print(teks)"
   ]
  },
  {
   "cell_type": "code",
   "execution_count": 9,
   "id": "9e1b9e3c-1037-407c-a156-991b5d37c86a",
   "metadata": {},
   "outputs": [
    {
     "name": "stdout",
     "output_type": "stream",
     "text": [
      "300 300 300\n"
     ]
    }
   ],
   "source": [
    "a=b=c=300\n",
    "print(a,b,c)"
   ]
  },
  {
   "cell_type": "code",
   "execution_count": 11,
   "id": "4040df2a-a051-4020-a333-8a3873c0565a",
   "metadata": {},
   "outputs": [
    {
     "name": "stdout",
     "output_type": "stream",
     "text": [
      "cirebon\n"
     ]
    }
   ],
   "source": [
    "rumah_saya='cirebon'\n",
    "print(rumah_saya)"
   ]
  },
  {
   "cell_type": "markdown",
   "id": "587d252a-2ac5-446f-a16b-9fc37af56965",
   "metadata": {},
   "source": [
    "# OPERATORS"
   ]
  },
  {
   "cell_type": "code",
   "execution_count": 12,
   "id": "6cd662b0-163f-4306-90c7-c0e4353d9f75",
   "metadata": {},
   "outputs": [
    {
     "name": "stdout",
     "output_type": "stream",
     "text": [
      "30\n"
     ]
    }
   ],
   "source": [
    "a=10\n",
    "b=20\n",
    "print(a+b)"
   ]
  },
  {
   "cell_type": "code",
   "execution_count": 13,
   "id": "efc7674b-3877-4203-a58e-2107fff69125",
   "metadata": {},
   "outputs": [
    {
     "name": "stdout",
     "output_type": "stream",
     "text": [
      "0.5\n"
     ]
    }
   ],
   "source": [
    "print(a/b)"
   ]
  },
  {
   "cell_type": "code",
   "execution_count": 14,
   "id": "f29aff36-4b17-4e01-b8c7-e0321a0fc619",
   "metadata": {},
   "outputs": [
    {
     "name": "stdout",
     "output_type": "stream",
     "text": [
      "0\n"
     ]
    }
   ],
   "source": [
    "print(a//b)"
   ]
  },
  {
   "cell_type": "markdown",
   "id": "55f45456-0567-4b13-a16a-e49153f7cc5b",
   "metadata": {},
   "source": [
    "## MODULO"
   ]
  },
  {
   "cell_type": "code",
   "execution_count": 15,
   "id": "8ac3fdb3-7a5a-4eff-963d-b4d33ba81449",
   "metadata": {},
   "outputs": [
    {
     "name": "stdout",
     "output_type": "stream",
     "text": [
      "1\n"
     ]
    }
   ],
   "source": [
    "print(7%2)"
   ]
  },
  {
   "cell_type": "markdown",
   "id": "5f854fc8-47cc-4f13-aecf-d73ab335b22a",
   "metadata": {},
   "source": [
    "## PANGKAT"
   ]
  },
  {
   "cell_type": "code",
   "execution_count": 16,
   "id": "0e42f2ef-4cc4-4f72-9441-28b815c03e32",
   "metadata": {},
   "outputs": [
    {
     "name": "stdout",
     "output_type": "stream",
     "text": [
      "49\n"
     ]
    }
   ],
   "source": [
    "print(7**2)"
   ]
  },
  {
   "cell_type": "code",
   "execution_count": 17,
   "id": "1bad0a5f-3435-459d-8ebc-d7291432d828",
   "metadata": {},
   "outputs": [
    {
     "name": "stdout",
     "output_type": "stream",
     "text": [
      "4\n"
     ]
    }
   ],
   "source": [
    "print(2**2)"
   ]
  },
  {
   "cell_type": "markdown",
   "id": "795db2d6-5d72-4c7c-8872-796ff3fa983e",
   "metadata": {},
   "source": [
    "# QUIZ 1\n",
    "Merubah 30 derajat celcius ke fanreheit"
   ]
  },
  {
   "cell_type": "code",
   "execution_count": 18,
   "id": "889368fc-e5f7-4421-abfd-914a14c7c087",
   "metadata": {},
   "outputs": [
    {
     "name": "stdout",
     "output_type": "stream",
     "text": [
      "86.0\n"
     ]
    }
   ],
   "source": [
    "c=30\n",
    "f=c*(9/5)+32\n",
    "print(f)"
   ]
  },
  {
   "cell_type": "markdown",
   "id": "db92b5e0-a037-400f-908d-be2adb257cb8",
   "metadata": {},
   "source": [
    "## COMPARISION OPERATOR"
   ]
  },
  {
   "cell_type": "code",
   "execution_count": 19,
   "id": "50951020-acc5-49d5-89c2-d5d946e73514",
   "metadata": {},
   "outputs": [
    {
     "name": "stdout",
     "output_type": "stream",
     "text": [
      "False\n"
     ]
    }
   ],
   "source": [
    "c=10\n",
    "d=30\n",
    "e=10\n",
    "print(c==d)"
   ]
  },
  {
   "cell_type": "code",
   "execution_count": 20,
   "id": "9e2d71c0-a13e-4169-a0cc-2aa199837f30",
   "metadata": {},
   "outputs": [
    {
     "name": "stdout",
     "output_type": "stream",
     "text": [
      "True\n"
     ]
    }
   ],
   "source": [
    "print(c==e)"
   ]
  },
  {
   "cell_type": "code",
   "execution_count": 21,
   "id": "137184e8-eefe-4fb8-b4b8-909a4b909717",
   "metadata": {},
   "outputs": [
    {
     "name": "stdout",
     "output_type": "stream",
     "text": [
      "True\n"
     ]
    }
   ],
   "source": [
    "print(c<d)"
   ]
  },
  {
   "cell_type": "code",
   "execution_count": 22,
   "id": "0fd20b8c-a943-4ab5-ad5d-b88793c27cdb",
   "metadata": {},
   "outputs": [
    {
     "name": "stdout",
     "output_type": "stream",
     "text": [
      "False\n"
     ]
    }
   ],
   "source": [
    "print(c>=d)"
   ]
  },
  {
   "cell_type": "code",
   "execution_count": 23,
   "id": "c10951ac-818a-4987-a671-0fee13be2b1d",
   "metadata": {},
   "outputs": [
    {
     "name": "stdout",
     "output_type": "stream",
     "text": [
      "True\n"
     ]
    }
   ],
   "source": [
    "print(c!=d)"
   ]
  },
  {
   "cell_type": "markdown",
   "id": "23d04cbe-83a5-4747-b4fd-6155ab72075e",
   "metadata": {},
   "source": [
    "# STRING MANIPULATION"
   ]
  },
  {
   "cell_type": "code",
   "execution_count": 24,
   "id": "08aa7f39-d2fd-4d95-8197-1daa1dcb1617",
   "metadata": {},
   "outputs": [
    {
     "name": "stdout",
     "output_type": "stream",
     "text": [
      "True\n"
     ]
    }
   ],
   "source": [
    "a='buah'\n",
    "print(a in 'Saya mau beli buah')"
   ]
  },
  {
   "cell_type": "code",
   "execution_count": 25,
   "id": "2ed6e97b-b9eb-4f00-8a0d-28f76bc6c63f",
   "metadata": {},
   "outputs": [
    {
     "name": "stdout",
     "output_type": "stream",
     "text": [
      "False\n"
     ]
    }
   ],
   "source": [
    "print(a in 'Saya mau beli buku')"
   ]
  },
  {
   "cell_type": "code",
   "execution_count": 26,
   "id": "4e7a8d0f-63e0-4fd6-ae6c-881d3de18796",
   "metadata": {},
   "outputs": [
    {
     "name": "stdout",
     "output_type": "stream",
     "text": [
      "BUAH\n"
     ]
    }
   ],
   "source": [
    "print(a.upper())"
   ]
  },
  {
   "cell_type": "code",
   "execution_count": 28,
   "id": "8881f439-c785-493d-89dd-196077799936",
   "metadata": {},
   "outputs": [
    {
     "name": "stdout",
     "output_type": "stream",
     "text": [
      "buah\n"
     ]
    }
   ],
   "source": [
    "b='BUAH'\n",
    "print(b.lower())"
   ]
  },
  {
   "cell_type": "code",
   "execution_count": 29,
   "id": "dc4ff6f8-7a32-4832-aca3-71f6f3c9718a",
   "metadata": {},
   "outputs": [
    {
     "name": "stdout",
     "output_type": "stream",
     "text": [
      "Saya\n"
     ]
    }
   ],
   "source": [
    "c='sAYa'\n",
    "print(c.capitalize())"
   ]
  },
  {
   "cell_type": "code",
   "execution_count": 30,
   "id": "d9f0c32f-93b0-44c5-b325-01fcc25ffe2c",
   "metadata": {},
   "outputs": [
    {
     "name": "stdout",
     "output_type": "stream",
     "text": [
      "Saya Mau Makan\n"
     ]
    }
   ],
   "source": [
    "d='sAya mAu Makan'\n",
    "print(d.title())"
   ]
  },
  {
   "cell_type": "markdown",
   "id": "21103710-8a23-4ce3-8cb5-318771524df5",
   "metadata": {},
   "source": [
    "# PYTHON LISTS"
   ]
  },
  {
   "cell_type": "code",
   "execution_count": 31,
   "id": "9504a32e-e753-4076-93bb-83879562a53c",
   "metadata": {},
   "outputs": [
    {
     "name": "stdout",
     "output_type": "stream",
     "text": [
      "['saya', 'mau', 'makan']\n"
     ]
    }
   ],
   "source": [
    "a=['saya','mau','makan']\n",
    "print(a)"
   ]
  },
  {
   "cell_type": "markdown",
   "id": "ef71b516-9493-455b-b136-871c7cee47ef",
   "metadata": {},
   "source": [
    "# INDEXING"
   ]
  },
  {
   "cell_type": "code",
   "execution_count": 32,
   "id": "2888fcff-e708-49fc-a483-15d9021cd466",
   "metadata": {},
   "outputs": [
    {
     "name": "stdout",
     "output_type": "stream",
     "text": [
      "foo\n"
     ]
    }
   ],
   "source": [
    "a=('foo','bar','baz','qux','quux','corge')\n",
    "print(a[0])"
   ]
  },
  {
   "cell_type": "code",
   "execution_count": 33,
   "id": "0e9d04e7-5702-4b76-b1c1-279291dde5a6",
   "metadata": {},
   "outputs": [
    {
     "name": "stdout",
     "output_type": "stream",
     "text": [
      "qux\n"
     ]
    }
   ],
   "source": [
    "print(a[3])"
   ]
  },
  {
   "cell_type": "code",
   "execution_count": 34,
   "id": "ca1a833a-31b0-4950-a3f9-38cf6d813118",
   "metadata": {},
   "outputs": [
    {
     "name": "stdout",
     "output_type": "stream",
     "text": [
      "bar\n"
     ]
    }
   ],
   "source": [
    "print(a[-5])"
   ]
  },
  {
   "cell_type": "code",
   "execution_count": 35,
   "id": "32ccc948-c6f0-4f02-bdab-4fd1a7f7403c",
   "metadata": {},
   "outputs": [
    {
     "name": "stdout",
     "output_type": "stream",
     "text": [
      "True\n"
     ]
    }
   ],
   "source": [
    "print(a[-6]==a[0])"
   ]
  },
  {
   "cell_type": "markdown",
   "id": "161df271-e472-4706-8347-c1493a6aeab5",
   "metadata": {},
   "source": [
    "# SLICING\n",
    "membelah data berdasarkan instruksi.\n",
    "prinsip [start:stop:step]"
   ]
  },
  {
   "cell_type": "code",
   "execution_count": 36,
   "id": "21ff1040-c95a-4457-ab65-2cda4909a0a0",
   "metadata": {},
   "outputs": [
    {
     "name": "stdout",
     "output_type": "stream",
     "text": [
      "('bar', 'baz', 'qux', 'quux', 'corge')\n"
     ]
    }
   ],
   "source": [
    "a=('foo','bar','baz','qux','quux','corge')\n",
    "print(a[1:6])"
   ]
  },
  {
   "cell_type": "code",
   "execution_count": 37,
   "id": "38add42e-9668-422c-a1f9-56cf6c6dccdc",
   "metadata": {},
   "outputs": [
    {
     "name": "stdout",
     "output_type": "stream",
     "text": [
      "ud\n"
     ]
    }
   ],
   "source": [
    "x='budi'\n",
    "print(x[1:3])"
   ]
  },
  {
   "cell_type": "code",
   "execution_count": 38,
   "id": "8928e5f0-1cdb-46e0-9441-90a582316232",
   "metadata": {},
   "outputs": [
    {
     "name": "stdout",
     "output_type": "stream",
     "text": [
      "udi\n"
     ]
    }
   ],
   "source": [
    "print(x[1:])"
   ]
  },
  {
   "cell_type": "code",
   "execution_count": 39,
   "id": "1f77732f-244e-4c7f-a6e8-8bccf10dbf49",
   "metadata": {},
   "outputs": [
    {
     "name": "stdout",
     "output_type": "stream",
     "text": [
      "Jk igi\n"
     ]
    }
   ],
   "source": [
    "y='Jaka Tingkir'\n",
    "print(y[0::2])"
   ]
  },
  {
   "cell_type": "code",
   "execution_count": 40,
   "id": "2adcfb31-41f3-4654-9df2-089337fc716a",
   "metadata": {},
   "outputs": [
    {
     "name": "stdout",
     "output_type": "stream",
     "text": [
      "rikgniT akaJ\n"
     ]
    }
   ],
   "source": [
    "print(y[::-1])"
   ]
  },
  {
   "cell_type": "markdown",
   "id": "ab9cb05d-8b35-4a55-8eb1-f880fa7a05f9",
   "metadata": {},
   "source": [
    "# QUIZ 2\n",
    "dari a = komitmen, munculkanlah\n",
    "* i\n",
    "* omi\n",
    "* tmen\n",
    "* kmte\n",
    "* kmtn"
   ]
  },
  {
   "cell_type": "code",
   "execution_count": 41,
   "id": "831e9ff7-1045-4cbd-9c00-d54ad4f02a37",
   "metadata": {},
   "outputs": [
    {
     "name": "stdout",
     "output_type": "stream",
     "text": [
      "i\n"
     ]
    }
   ],
   "source": [
    "a='komitmen'\n",
    "print(a[3])"
   ]
  },
  {
   "cell_type": "code",
   "execution_count": 42,
   "id": "90f2cb8c-caa3-4d67-8ad3-425856662de7",
   "metadata": {},
   "outputs": [
    {
     "name": "stdout",
     "output_type": "stream",
     "text": [
      "omi\n"
     ]
    }
   ],
   "source": [
    "print(a[1:4])"
   ]
  },
  {
   "cell_type": "code",
   "execution_count": 43,
   "id": "75cfb2cb-ae8c-4d8f-99f4-b0a1ea2ec4ff",
   "metadata": {},
   "outputs": [
    {
     "name": "stdout",
     "output_type": "stream",
     "text": [
      "tmen\n"
     ]
    }
   ],
   "source": [
    "print(a[4:])"
   ]
  },
  {
   "cell_type": "code",
   "execution_count": 44,
   "id": "6336f37c-d1b7-4e1b-9334-6ea918a891e3",
   "metadata": {},
   "outputs": [
    {
     "name": "stdout",
     "output_type": "stream",
     "text": [
      "kmte\n"
     ]
    }
   ],
   "source": [
    "print(a[::2])"
   ]
  },
  {
   "cell_type": "code",
   "execution_count": 45,
   "id": "67e7aa40-1c72-48d7-b880-7b20c22ba7ba",
   "metadata": {},
   "outputs": [
    {
     "name": "stdout",
     "output_type": "stream",
     "text": [
      "kmtn\n"
     ]
    }
   ],
   "source": [
    "print(a[0]+a[2]+a[4]+a[7])"
   ]
  },
  {
   "cell_type": "code",
   "execution_count": 46,
   "id": "b9cff21c-b831-487a-bd32-15a2b5799120",
   "metadata": {},
   "outputs": [
    {
     "name": "stdout",
     "output_type": "stream",
     "text": [
      "kmtn\n"
     ]
    }
   ],
   "source": [
    "print(a[0:5:2]+a[a.index('n')])"
   ]
  },
  {
   "cell_type": "markdown",
   "id": "596b69ab-a776-42a4-a77a-2b8ec565afad",
   "metadata": {},
   "source": [
    "## MODIFY LIST VALUE ON ITS INDEX"
   ]
  },
  {
   "cell_type": "code",
   "execution_count": 47,
   "id": "e1b2ae00-a592-45f3-b155-e1c03b59d1ff",
   "metadata": {},
   "outputs": [
    {
     "name": "stdout",
     "output_type": "stream",
     "text": [
      "['foo', 'bar', 'baz', 20, 'corgi']\n"
     ]
    }
   ],
   "source": [
    "z=['foo','bar','baz','qux','quux','corge']\n",
    "z[z.index('qux')] = 20\n",
    "z[-1]='corgi'\n",
    "del z[z.index('quux')]\n",
    "print(z)"
   ]
  },
  {
   "cell_type": "markdown",
   "id": "10527ec5-7e48-47c1-a33b-ecf72bfadb9c",
   "metadata": {},
   "source": [
    "# DICTIONARY"
   ]
  },
  {
   "cell_type": "code",
   "execution_count": 48,
   "id": "2e15e485-d81f-4fda-bbb7-c362eb310127",
   "metadata": {},
   "outputs": [],
   "source": [
    "orang={}\n",
    "orang['Nama']='Budi'\n",
    "orang['Kota']='Solo'\n",
    "orang['Umur']=32\n",
    "orang['Anak']=['Ani','Tia','Joko']\n",
    "orang['Kendaraan']={'mobil':'Innova','motor':'mio'}"
   ]
  },
  {
   "cell_type": "code",
   "execution_count": 49,
   "id": "700c0eb9-a3e6-4692-8158-2cc730f35061",
   "metadata": {},
   "outputs": [
    {
     "name": "stdout",
     "output_type": "stream",
     "text": [
      "mio\n"
     ]
    }
   ],
   "source": [
    "print(orang['Kendaraan']['motor'])"
   ]
  },
  {
   "cell_type": "code",
   "execution_count": 50,
   "id": "2b70c9d5-9ab4-4842-9134-4d4722b86ca3",
   "metadata": {},
   "outputs": [
    {
     "name": "stdout",
     "output_type": "stream",
     "text": [
      "['Ani', 'Tia']\n"
     ]
    }
   ],
   "source": [
    "print(orang['Anak'][0:2])"
   ]
  },
  {
   "cell_type": "markdown",
   "id": "d411acf5-3ae5-4efc-8f58-3711947e5659",
   "metadata": {},
   "source": [
    "# LINE CONTINUATION"
   ]
  },
  {
   "cell_type": "code",
   "execution_count": 51,
   "id": "2432bcbe-f004-4eab-ae4d-db6c54ef71fd",
   "metadata": {},
   "outputs": [
    {
     "name": "stdout",
     "output_type": "stream",
     "text": [
      "True\n"
     ]
    }
   ],
   "source": [
    "print(True and True)"
   ]
  },
  {
   "cell_type": "code",
   "execution_count": 53,
   "id": "eb58fd85-6912-4632-bfe0-ae3469665db6",
   "metadata": {},
   "outputs": [
    {
     "name": "stdout",
     "output_type": "stream",
     "text": [
      "False\n"
     ]
    }
   ],
   "source": [
    "print(True and False)"
   ]
  },
  {
   "cell_type": "code",
   "execution_count": 54,
   "id": "efcadc16-53ba-4c31-9292-ac4a43e26e53",
   "metadata": {},
   "outputs": [
    {
     "name": "stdout",
     "output_type": "stream",
     "text": [
      "True\n"
     ]
    }
   ],
   "source": [
    "print(True or True)"
   ]
  },
  {
   "cell_type": "code",
   "execution_count": 55,
   "id": "f8562f43-5b1b-4f94-91bd-7faf1261065f",
   "metadata": {},
   "outputs": [
    {
     "name": "stdout",
     "output_type": "stream",
     "text": [
      "True\n"
     ]
    }
   ],
   "source": [
    "print(True or False)"
   ]
  },
  {
   "cell_type": "code",
   "execution_count": 56,
   "id": "d4a45222-9156-4e74-812d-5a9401b9793f",
   "metadata": {},
   "outputs": [
    {
     "name": "stdout",
     "output_type": "stream",
     "text": [
      "False\n"
     ]
    }
   ],
   "source": [
    "print(False or False)"
   ]
  },
  {
   "cell_type": "code",
   "execution_count": 57,
   "id": "f96b7b13-81d4-468b-8b64-788e7fcc49f7",
   "metadata": {},
   "outputs": [
    {
     "name": "stdout",
     "output_type": "stream",
     "text": [
      "True\n"
     ]
    }
   ],
   "source": [
    "print(False or True)"
   ]
  },
  {
   "cell_type": "code",
   "execution_count": 58,
   "id": "83b3c7cc-9e72-45ed-bf52-9d58fecf8ad7",
   "metadata": {},
   "outputs": [
    {
     "name": "stdout",
     "output_type": "stream",
     "text": [
      "True\n"
     ]
    }
   ],
   "source": [
    "umur1=42\n",
    "umur2=15\n",
    "umur3=70\n",
    "print(umur1>=18 or umur2>=18)"
   ]
  },
  {
   "cell_type": "markdown",
   "id": "3ffa03b9-41e6-4198-a7b1-f16ce1ecf425",
   "metadata": {},
   "source": [
    "### working age is 16-65"
   ]
  },
  {
   "cell_type": "code",
   "execution_count": 59,
   "id": "710f1b89-9be0-42d0-b234-329d9d57357e",
   "metadata": {},
   "outputs": [
    {
     "name": "stdout",
     "output_type": "stream",
     "text": [
      "True\n",
      "False\n",
      "False\n"
     ]
    }
   ],
   "source": [
    "print(umur1>=18 and umur1<=65)\n",
    "print(umur2>=18 and umur2<=65)\n",
    "print(umur3>=18 and umur3<=65)"
   ]
  },
  {
   "cell_type": "code",
   "execution_count": 60,
   "id": "9e539954-5852-4480-a149-a1f6e9feebb7",
   "metadata": {},
   "outputs": [
    {
     "name": "stdout",
     "output_type": "stream",
     "text": [
      "True\n"
     ]
    }
   ],
   "source": [
    "print((umur1>=18 and umur1<=65) or (umur2>=18 and umur2<=65) or (umur3>=18 and umur3<=65))"
   ]
  },
  {
   "cell_type": "markdown",
   "id": "86a0b60f-3017-452e-aa36-7b6b5d017ae2",
   "metadata": {},
   "source": [
    "# MATERI TAMBAHAN"
   ]
  },
  {
   "cell_type": "code",
   "execution_count": 61,
   "id": "baf43b41-59bd-4fcb-9ae5-8024ad8b556d",
   "metadata": {},
   "outputs": [
    {
     "name": "stdout",
     "output_type": "stream",
     "text": [
      "['Toyota', 'Kijang', 'Isuzu']\n"
     ]
    }
   ],
   "source": [
    "mobil=['Toyota','Kijang']\n",
    "kendaraan=mobil\n",
    "mobil.append('Isuzu')\n",
    "print(mobil)"
   ]
  },
  {
   "cell_type": "code",
   "execution_count": 62,
   "id": "d21f0b10-f614-4320-b7ee-aaff8dea642b",
   "metadata": {},
   "outputs": [
    {
     "name": "stdout",
     "output_type": "stream",
     "text": [
      "['Pisang', 'Apel']\n"
     ]
    }
   ],
   "source": [
    "buah=['Pisang','Jeruk','Apel']\n",
    "buah.pop(1)\n",
    "print(buah)"
   ]
  },
  {
   "cell_type": "code",
   "execution_count": 63,
   "id": "50239e5d-4c9e-4a43-8629-cbf3d4182fb9",
   "metadata": {},
   "outputs": [
    {
     "name": "stdout",
     "output_type": "stream",
     "text": [
      "['Toyota', 'Kijang', 'Isuzu']\n"
     ]
    }
   ],
   "source": [
    "kendaraan=mobil.copy()\n",
    "print(kendaraan)"
   ]
  },
  {
   "cell_type": "code",
   "execution_count": 64,
   "id": "308e1bca-424d-4642-b759-5aa5918f816d",
   "metadata": {},
   "outputs": [
    {
     "name": "stdout",
     "output_type": "stream",
     "text": [
      "1\n",
      "2\n",
      "3\n",
      "4\n",
      "5\n",
      "6\n",
      "7\n",
      "8\n",
      "9\n",
      "10\n"
     ]
    }
   ],
   "source": [
    "i=1\n",
    "while(i<=10):\n",
    "    print(i)\n",
    "    i=i+1"
   ]
  },
  {
   "cell_type": "markdown",
   "id": "368edaea-e218-42a7-aa56-4b2bb42d7efe",
   "metadata": {},
   "source": [
    "### Nadia Syachrani"
   ]
  },
  {
   "cell_type": "code",
   "execution_count": null,
   "id": "be2b8615-8275-4274-8441-134c43b575d8",
   "metadata": {},
   "outputs": [],
   "source": []
  }
 ],
 "metadata": {
  "kernelspec": {
   "display_name": "Python 3 (ipykernel)",
   "language": "python",
   "name": "python3"
  },
  "language_info": {
   "codemirror_mode": {
    "name": "ipython",
    "version": 3
   },
   "file_extension": ".py",
   "mimetype": "text/x-python",
   "name": "python",
   "nbconvert_exporter": "python",
   "pygments_lexer": "ipython3",
   "version": "3.9.13"
  }
 },
 "nbformat": 4,
 "nbformat_minor": 5
}
